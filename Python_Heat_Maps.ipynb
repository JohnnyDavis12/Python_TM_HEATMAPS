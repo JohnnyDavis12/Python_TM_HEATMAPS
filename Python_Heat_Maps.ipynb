{
 "cells": [
  {
   "cell_type": "code",
   "execution_count": null,
   "metadata": {},
   "outputs": [],
   "source": [
    "#Importing the libraries\n",
    "import pandas as pd\n",
    "import pickle\n",
    "from pandas import DataFrame, Series\n",
    "import numpy as np\n",
    "import seaborn as sns\n",
    "import statsmodels.api as sm\n",
    "import matplotlib.pyplot as plt\n",
    "import pybaseball as pyb\n",
    "from pybaseball import statcast\n",
    "import xgboost as xgb\n",
    "import numpy as np\n",
    "from scipy.stats import rankdata \n",
    "import statsmodels.api as sm\n",
    "import statsmodels.formula.api as smf\n",
    "from scipy import stats\n",
    "import matplotlib.lines \n",
    "from matplotlib.lines import Line2D\n",
    "from scipy.stats import gaussian_kde"
   ]
  },
  {
   "cell_type": "code",
   "execution_count": null,
   "metadata": {},
   "outputs": [],
   "source": [
    "# create a heatmap visualation of each pitch and the strike zone \n",
    "df = pd.read_csv(\"/Users/johndavis/Desktop/merged.csv\",low_memory=False)"
   ]
  },
  {
   "cell_type": "code",
   "execution_count": null,
   "metadata": {},
   "outputs": [],
   "source": [
    "#Create a new dataframe with only the columns we want for Analysis\n",
    "df = df[['Pitcher','RelSpeed','AutoPitchType','PitchCall','SpinRate','RelHeight','RelSide','Extension','InducedVertBreak', 'HorzBreak','PlateLocHeight','PlateLocSide']]\n",
    "#Rename the columns to be more descriptive\n",
    "df.rename(columns={'RelSpeed':'Velocity', 'SpinRate':'Spin Rate', 'RelHeight':'Release Height', 'RelSide':'Release Side', 'Extension':'Extension', 'InducedVertBreak':'Induced Vertical Break', 'HorzBreak':'Horizontal Break'}, inplace=True)\n"
   ]
  },
  {
   "cell_type": "code",
   "execution_count": null,
   "metadata": {},
   "outputs": [],
   "source": [
    "#add pitch result column\n",
    "df.insert(3, 'Pitch Result', df['PitchCall'])"
   ]
  },
  {
   "cell_type": "code",
   "execution_count": null,
   "metadata": {},
   "outputs": [],
   "source": [
    "#delete pitch call column\n",
    "del df['PitchCall']"
   ]
  },
  {
   "cell_type": "code",
   "execution_count": null,
   "metadata": {},
   "outputs": [],
   "source": [
    "df = df.dropna()\n",
    "df = df.reset_index(drop=True)"
   ]
  },
  {
   "cell_type": "code",
   "execution_count": null,
   "metadata": {},
   "outputs": [],
   "source": [
    "#change AutoPitchType to Pitch Type\n",
    "df.rename(columns={'AutoPitchType':'Pitch Type'}, inplace=True)"
   ]
  },
  {
   "cell_type": "code",
   "execution_count": null,
   "metadata": {},
   "outputs": [],
   "source": [
    "df.head()"
   ]
  },
  {
   "cell_type": "code",
   "execution_count": null,
   "metadata": {},
   "outputs": [],
   "source": [
    "#create a fuunction that asks for a pitchers name then converts its from first last to last, first\n",
    "def get_pitcher_name():\n",
    "    first_name = input(\"Enter the pitchers first name: \")\n",
    "    last_name = input(\"Enter the pitchers last name: \")\n",
    "    pitcher_name = last_name + \", \" + first_name\n",
    "    return pitcher_name"
   ]
  },
  {
   "cell_type": "code",
   "execution_count": null,
   "metadata": {},
   "outputs": [],
   "source": [
    "get_pitcher_name()"
   ]
  },
  {
   "cell_type": "code",
   "execution_count": null,
   "metadata": {},
   "outputs": [],
   "source": [
    "#use get_pitcher_name so that the user can input the pitchers name and then use that name to create a heatmap\n",
    "def get_pitch_heatmap(df, Pitcher, pitch_type):\n",
    "    \n",
    "    if pitch_type == \"Breaking Ball\":\n",
    "        pitch_df = df.loc[(df['Pitcher'] == Pitcher) & (df['Pitch Type'].isin([\"Slider\", \"Curveball\"]))]\n",
    "    elif pitch_type == \"Fastball\":\n",
    "        pitch_df = df.loc[(df['Pitcher'] == Pitcher) & (df['Pitch Type'].isin([\"Four-Seam\", \"Sinker\", \"Cutter\"]))]\n",
    "    elif pitch_type == \"Offspeed\":\n",
    "        pitch_df = df.loc[(df['Pitcher'] == Pitcher) & (df['Pitch Type'].isin([\"Changeup\", \"Splitter\"]))]\n",
    "    x = pitch_df['PlateLocSide']\n",
    "    y = pitch_df['PlateLocHeight']\n",
    "    k = gaussian_kde(np.vstack([x, y]))\n",
    "    xi, yi = np.mgrid[-2:2:100j, 0:5:100j]\n",
    "    zi = k(np.vstack([xi.flatten(), yi.flatten()]))\n",
    "    fig, ax = plt.subplots(figsize=(10, 8))\n",
    "    ax.set_xlim([-2, 2])\n",
    "    ax.set_ylim([0, 5])\n",
    "    ax.set_xlabel(\"Horizontal Pitch Location\")\n",
    "    ax.set_ylabel(\"Vertical Pitch Location\")\n",
    "    #pitcher 2 is first name then last name instead of last name, first name\n",
    "    Pitcher_2 = Pitcher.split(\", \")\n",
    "    Pitcher_2 = Pitcher_2[1] + \" \" + Pitcher_2[0]\n",
    "    ax.set_title( Pitcher_2 + \" \" +pitch_type + \" Pitch Heatmap - Pitcher's View\")\n",
    "    heatmap = ax.pcolormesh(xi, yi, zi.reshape(xi.shape), cmap=plt.cm.inferno_r, shading='auto')\n",
    "    cbar = fig.colorbar(heatmap, ax=ax)\n",
    "    cbar.ax.set_ylabel('Density')\n",
    "    ax.add_patch(plt.Rectangle((-0.85, 1.6), 1.7, 1.8, fill=False, edgecolor='white', lw=2))\n",
    "    #ax.add_patch(plt.Rectangle((-0.85, 1.6), 1.7, 1.8, fill=False, edgecolor='white', lw=2))\n",
    "    plt.show()\n",
    "    "
   ]
  },
  {
   "cell_type": "code",
   "execution_count": null,
   "metadata": {},
   "outputs": [],
   "source": [
    "pitcher_name = get_pitcher_name()"
   ]
  },
  {
   "cell_type": "code",
   "execution_count": null,
   "metadata": {},
   "outputs": [],
   "source": [
    "#create a function that asks for pitchers first and last name and outputs three heatmaps for breaking balls, fastballs, and offspeed pitches\n",
    "def get_all_pitch_heatmaps(df, Pitcher):\n",
    "    get_pitch_heatmap(df, Pitcher, \"Fastball\")\n",
    "    get_pitch_heatmap(df, Pitcher, \"Breaking Ball\")\n",
    "    get_pitch_heatmap(df, Pitcher, \"Offspeed\")"
   ]
  },
  {
   "cell_type": "code",
   "execution_count": null,
   "metadata": {},
   "outputs": [],
   "source": [
    "get_all_pitch_heatmaps(df, pitcher_name)"
   ]
  },
  {
   "cell_type": "code",
   "execution_count": null,
   "metadata": {},
   "outputs": [],
   "source": []
  }
 ],
 "metadata": {
  "kernelspec": {
   "display_name": "Python 3.9.13 ('base')",
   "language": "python",
   "name": "python3"
  },
  "language_info": {
   "codemirror_mode": {
    "name": "ipython",
    "version": 3
   },
   "file_extension": ".py",
   "mimetype": "text/x-python",
   "name": "python",
   "nbconvert_exporter": "python",
   "pygments_lexer": "ipython3",
   "version": "3.9.13"
  },
  "orig_nbformat": 4,
  "vscode": {
   "interpreter": {
    "hash": "ece8b02e9fc008d2bf4aaa30f9b06cdaffafe92b71d54bfc844a320ee0701ab8"
   }
  }
 },
 "nbformat": 4,
 "nbformat_minor": 2
}
